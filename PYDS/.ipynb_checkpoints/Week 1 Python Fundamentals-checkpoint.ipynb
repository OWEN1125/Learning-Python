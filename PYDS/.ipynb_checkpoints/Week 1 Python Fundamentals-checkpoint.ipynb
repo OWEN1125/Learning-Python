{
 "cells": [
  {
   "cell_type": "markdown",
   "metadata": {},
   "source": [
    "# Week 1 Python Fundamentals"
   ]
  },
  {
   "cell_type": "markdown",
   "metadata": {},
   "source": [
    "## why python?\n",
    "1. Easy to learn\n",
    "+ minimal template\n",
    "+ natural syntax \n",
    "2. full featured\n",
    "3. strong **Data Science** libraries"
   ]
  },
  {
   "cell_type": "markdown",
   "metadata": {},
   "source": [
    "## Course Outline\n",
    "1. Prerequisite Python Knowledge.\n",
    "2. The pandas Toolkit.\n",
    "3. Advanced Querying and Manipulation with *pandas*.\n",
    "4. Basi Statistical Analysis with *numpy* and *scipy* and project."
   ]
  },
  {
   "cell_type": "markdown",
   "metadata": {},
   "source": [
    "## Data Science\n",
    "- Hacking Skills\n",
    "- Math and Statistics Knowledge\n",
    "- Substantive Expertise\n",
    "- Skepticism, experimentation, simulation and replication"
   ]
  },
  {
   "cell_type": "markdown",
   "metadata": {},
   "source": [
    "\"50 years of data science\""
   ]
  },
  {
   "cell_type": "markdown",
   "metadata": {},
   "source": [
    " - Data Exploration and Preparation\n",
    " - Data Representation and Transformation\n",
    " - Computing with Data\n",
    " - Data Modeling\n",
    " - Data Visualization and Presentation\n",
    " - Science about Data Science"
   ]
  }
 ],
 "metadata": {
  "kernelspec": {
   "display_name": "Python 3",
   "language": "python",
   "name": "python3"
  },
  "language_info": {
   "codemirror_mode": {
    "name": "ipython",
    "version": 3
   },
   "file_extension": ".py",
   "mimetype": "text/x-python",
   "name": "python",
   "nbconvert_exporter": "python",
   "pygments_lexer": "ipython3",
   "version": "3.7.7"
  }
 },
 "nbformat": 4,
 "nbformat_minor": 4
}
